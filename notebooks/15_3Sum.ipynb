{
 "cells": [
  {
   "cell_type": "code",
   "execution_count": 16,
   "id": "1f6b6ff0-22d0-491e-bf79-61f7a74b8446",
   "metadata": {},
   "outputs": [],
   "source": [
    "nums = [14, 3, 44, 5, 4, 4, 15, 23]"
   ]
  },
  {
   "cell_type": "code",
   "execution_count": 17,
   "id": "60a40002-d24f-4236-9612-76ced7570e90",
   "metadata": {},
   "outputs": [
    {
     "data": {
      "text/plain": [
       "[14, 3, 44, 5, 4, 4, 15, 23]"
      ]
     },
     "execution_count": 17,
     "metadata": {},
     "output_type": "execute_result"
    }
   ],
   "source": [
    "nums"
   ]
  },
  {
   "cell_type": "code",
   "execution_count": 19,
   "id": "ef3abc93-6993-403a-8f77-227ed9de63a0",
   "metadata": {},
   "outputs": [],
   "source": [
    "nums = list(set(nums))\n",
    "nums.sort()"
   ]
  },
  {
   "cell_type": "code",
   "execution_count": 20,
   "id": "7e05ac5d-3a87-4b4e-9406-050fdc2ff527",
   "metadata": {},
   "outputs": [],
   "source": []
  },
  {
   "cell_type": "code",
   "execution_count": 21,
   "id": "48763c6a-ee56-4260-becc-98668e86c6fa",
   "metadata": {},
   "outputs": [
    {
     "data": {
      "text/plain": [
       "[3, 4, 5, 14, 15, 23, 44]"
      ]
     },
     "execution_count": 21,
     "metadata": {},
     "output_type": "execute_result"
    }
   ],
   "source": [
    "nums"
   ]
  },
  {
   "cell_type": "code",
   "execution_count": null,
   "id": "40018cbc-ee46-4762-8abf-e6cc31b0c289",
   "metadata": {},
   "outputs": [],
   "source": []
  }
 ],
 "metadata": {
  "kernelspec": {
   "display_name": "Python 3 (ipykernel)",
   "language": "python",
   "name": "python3"
  },
  "language_info": {
   "codemirror_mode": {
    "name": "ipython",
    "version": 3
   },
   "file_extension": ".py",
   "mimetype": "text/x-python",
   "name": "python",
   "nbconvert_exporter": "python",
   "pygments_lexer": "ipython3",
   "version": "3.12.7"
  }
 },
 "nbformat": 4,
 "nbformat_minor": 5
}
