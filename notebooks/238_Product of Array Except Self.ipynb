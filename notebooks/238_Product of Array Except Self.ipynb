{
 "cells": [
  {
   "cell_type": "code",
   "execution_count": 1,
   "id": "b2f7a017-4862-4b7b-9cb5-f3b717521bd2",
   "metadata": {},
   "outputs": [],
   "source": [
    "nums = [1, 2, 3, 4]"
   ]
  },
  {
   "cell_type": "code",
   "execution_count": 13,
   "id": "9a3755a4-38ab-48e0-bdb6-edfb15f05320",
   "metadata": {},
   "outputs": [],
   "source": [
    "out = []\n",
    "p = 1\n",
    "\n",
    "for i in range(0, len(nums)):\n",
    "    out.append(p)\n",
    "    p *= nums[i]"
   ]
  },
  {
   "cell_type": "code",
   "execution_count": 14,
   "id": "6bce5332-8b5f-4a8b-890c-a2fdf6d35978",
   "metadata": {},
   "outputs": [
    {
     "data": {
      "text/plain": [
       "24"
      ]
     },
     "execution_count": 14,
     "metadata": {},
     "output_type": "execute_result"
    }
   ],
   "source": [
    "p"
   ]
  },
  {
   "cell_type": "code",
   "execution_count": 19,
   "id": "665fd3cc-a8df-4310-9a8e-b253919ab7d3",
   "metadata": {},
   "outputs": [],
   "source": [
    "p = 1\n",
    "for i in range(len(nums) - 1, 0 - 1, -1):\n",
    "    out[i] = out[i] * p\n",
    "    p *= nums[i]"
   ]
  },
  {
   "cell_type": "code",
   "execution_count": 20,
   "id": "3e2f9fef-938f-4bb9-83a1-9dacdb57a909",
   "metadata": {},
   "outputs": [
    {
     "data": {
      "text/plain": [
       "[24, 12, 8, 6]"
      ]
     },
     "execution_count": 20,
     "metadata": {},
     "output_type": "execute_result"
    }
   ],
   "source": [
    "out"
   ]
  },
  {
   "cell_type": "code",
   "execution_count": 5,
   "id": "c5947728-78ba-4dd3-993c-f9f68ec9df8e",
   "metadata": {},
   "outputs": [
    {
     "data": {
      "text/plain": [
       "[1, 3, 4]"
      ]
     },
     "execution_count": 5,
     "metadata": {},
     "output_type": "execute_result"
    }
   ],
   "source": [
    "nums[:i] + nums[i+1:]"
   ]
  },
  {
   "cell_type": "code",
   "execution_count": 10,
   "id": "b43dc2ed-60a7-4e80-916b-3f847e7c2c45",
   "metadata": {},
   "outputs": [
    {
     "data": {
      "text/plain": [
       "<map at 0x1107f1900>"
      ]
     },
     "execution_count": 10,
     "metadata": {},
     "output_type": "execute_result"
    }
   ],
   "source": []
  }
 ],
 "metadata": {
  "kernelspec": {
   "display_name": "Python 3 (ipykernel)",
   "language": "python",
   "name": "python3"
  },
  "language_info": {
   "codemirror_mode": {
    "name": "ipython",
    "version": 3
   },
   "file_extension": ".py",
   "mimetype": "text/x-python",
   "name": "python",
   "nbconvert_exporter": "python",
   "pygments_lexer": "ipython3",
   "version": "3.12.7"
  }
 },
 "nbformat": 4,
 "nbformat_minor": 5
}
